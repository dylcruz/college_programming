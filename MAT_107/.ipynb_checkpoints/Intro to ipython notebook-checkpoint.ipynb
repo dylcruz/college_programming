{
 "cells": [
  {
   "cell_type": "markdown",
   "metadata": {},
   "source": [
    "# Intro to coding in python"
   ]
  },
  {
   "cell_type": "markdown",
   "metadata": {},
   "source": [
    "Basic Data Types (there are lots more)\n",
    "    01. int:         integers                                 ex. (... , -3, -2, -1, 0, 1, 2, 3, ...)\n",
    "    02. float:       rational numbers\n",
    "                     or approximations to real numbers        ex. (... , -3.0, -2.125, 0.0, 1.41421, 3.14159265359, ...)\n",
    "    03. string:      string of symbols in parentheses         ex. ( \"hello\" , \"abc\" , \"125\" ...)\n",
    "    04. bool:        variable that is either true or false    ex. (x > 5 , x == 3, ...)\n",
    "    05. list:        list of data objects                     ex. [1,2,3,4,5]\n",
    "    \n",
    "    \n",
    "    \n",
    "Arithmetic Operatiors\n",
    "    01. add +\n",
    "    02. subtract -\n",
    "    03. multiply *\n",
    "    04. divide /\n",
    "    05. exponent **       (3**(2)  =  9)\n",
    "    06. modulo %          (25%5    = 0)\n",
    "\n",
    "Other Operators\n",
    "    07. <            less than\n",
    "    08. >            greater than\n",
    "    09. <=           less than or equal to\n",
    "    10. >=           greater than or equal to\n",
    "    11. ==           equal\n",
    "    12. !=           not equal\n",
    "    13. concatenate  link objects together           ex. s1=\"all\"  s2=\"day\"  s3=s1+s2, s3='allday'\n",
    "\n",
    "Comments\n",
    "    #Comments are used to in most code to guide a reader.  Comments are basic statements to provide\n",
    "    #general 'sign posts' for one to see in order to understand the code.\n",
    "    #comments are incorperated within the lines of code but not executed by the machine.\n",
    "    #the symbol # is used by python to recognize that a particular line is a comment.\n",
    "    \n",
    "    #To comment out a block of code: highlight block then command /"
   ]
  },
  {
   "cell_type": "markdown",
   "metadata": {},
   "source": [
    "Python is tab deliminated!"
   ]
  },
  {
   "cell_type": "markdown",
   "metadata": {},
   "source": [
    "### Variables"
   ]
  },
  {
   "cell_type": "markdown",
   "metadata": {},
   "source": [
    "Our notion of a variable here in python, or most any language, \n",
    "is the same as the concept learned in high school math.\n",
    "A variable is a letter or string of letters used as a 'place-holder' \n",
    "for a numerical value or other object in the environment.  A variable 'stores' information \n",
    "to be used within the lines of code and may static or updated continuously."
   ]
  },
  {
   "cell_type": "markdown",
   "metadata": {},
   "source": [
    "Examples"
   ]
  },
  {
   "cell_type": "code",
   "execution_count": 6,
   "metadata": {
    "collapsed": false
   },
   "outputs": [],
   "source": [
    "a=2\n",
    "b=3\n",
    "dog=5"
   ]
  },
  {
   "cell_type": "code",
   "execution_count": 1,
   "metadata": {
    "collapsed": false
   },
   "outputs": [],
   "source": [
    "#a+b"
   ]
  },
  {
   "cell_type": "code",
   "execution_count": 2,
   "metadata": {
    "collapsed": false
   },
   "outputs": [],
   "source": [
    "#b+dog"
   ]
  },
  {
   "cell_type": "code",
   "execution_count": 3,
   "metadata": {
    "collapsed": false
   },
   "outputs": [],
   "source": [
    "#(a+b)*dog"
   ]
  },
  {
   "cell_type": "code",
   "execution_count": 4,
   "metadata": {
    "collapsed": false
   },
   "outputs": [],
   "source": [
    "#b**2"
   ]
  },
  {
   "cell_type": "markdown",
   "metadata": {},
   "source": [
    "In this next example the value of the variable x will be updated"
   ]
  },
  {
   "cell_type": "code",
   "execution_count": 1,
   "metadata": {
    "collapsed": false
   },
   "outputs": [
    {
     "name": "stdout",
     "output_type": "stream",
     "text": [
      "1\n",
      "2\n",
      "3\n",
      "4\n",
      "5\n"
     ]
    }
   ],
   "source": [
    "x=0\n",
    "for i in range(5):\n",
    "    x=x+1\n",
    "    print x"
   ]
  },
  {
   "cell_type": "code",
   "execution_count": 3,
   "metadata": {
    "collapsed": false
   },
   "outputs": [
    {
     "name": "stdout",
     "output_type": "stream",
     "text": [
      "1\n",
      "2\n",
      "3\n",
      "4\n",
      "5\n"
     ]
    }
   ],
   "source": [
    "x=0\n",
    "for i in range(5):\n",
    "    x+=1\n",
    "    print x"
   ]
  },
  {
   "cell_type": "markdown",
   "metadata": {},
   "source": [
    "### Working with different types of objects"
   ]
  },
  {
   "cell_type": "code",
   "execution_count": 2,
   "metadata": {
    "collapsed": false
   },
   "outputs": [],
   "source": [
    "#type(3)"
   ]
  },
  {
   "cell_type": "code",
   "execution_count": 18,
   "metadata": {
    "collapsed": false
   },
   "outputs": [],
   "source": [
    "#type(3.0)"
   ]
  },
  {
   "cell_type": "code",
   "execution_count": 50,
   "metadata": {
    "collapsed": false
   },
   "outputs": [],
   "source": [
    "#type('string')"
   ]
  },
  {
   "cell_type": "code",
   "execution_count": 64,
   "metadata": {
    "collapsed": false
   },
   "outputs": [],
   "source": [
    "#type(True)"
   ]
  },
  {
   "cell_type": "code",
   "execution_count": 24,
   "metadata": {
    "collapsed": false
   },
   "outputs": [],
   "source": [
    "#3/4"
   ]
  },
  {
   "cell_type": "code",
   "execution_count": 21,
   "metadata": {
    "collapsed": false
   },
   "outputs": [],
   "source": [
    "#3.0/4"
   ]
  },
  {
   "cell_type": "code",
   "execution_count": 22,
   "metadata": {
    "collapsed": false
   },
   "outputs": [],
   "source": [
    "#float(3)/4"
   ]
  },
  {
   "cell_type": "code",
   "execution_count": 30,
   "metadata": {
    "collapsed": false
   },
   "outputs": [],
   "source": [
    "c=3\n",
    "d='3'"
   ]
  },
  {
   "cell_type": "code",
   "execution_count": 29,
   "metadata": {
    "collapsed": false
   },
   "outputs": [],
   "source": [
    "#type(c)"
   ]
  },
  {
   "cell_type": "code",
   "execution_count": 32,
   "metadata": {
    "collapsed": false
   },
   "outputs": [],
   "source": [
    "#type(d)"
   ]
  },
  {
   "cell_type": "code",
   "execution_count": 33,
   "metadata": {
    "collapsed": false
   },
   "outputs": [],
   "source": [
    "e=str(3)"
   ]
  },
  {
   "cell_type": "code",
   "execution_count": 35,
   "metadata": {
    "collapsed": false
   },
   "outputs": [],
   "source": [
    "#type(e)"
   ]
  },
  {
   "cell_type": "markdown",
   "metadata": {},
   "source": [
    "Print command.  Hello World!"
   ]
  },
  {
   "cell_type": "code",
   "execution_count": 15,
   "metadata": {
    "collapsed": false
   },
   "outputs": [],
   "source": [
    "#print'Hello World!'"
   ]
  },
  {
   "cell_type": "code",
   "execution_count": 20,
   "metadata": {
    "collapsed": false
   },
   "outputs": [],
   "source": [
    "hw='Hello World!'\n",
    "i='I feel'\n",
    "h='happy'\n",
    "s='sad'\n",
    "m='Monday'\n",
    "t='Tuesday'\n",
    "w='Wednesday'\n",
    "x=9.5"
   ]
  },
  {
   "cell_type": "code",
   "execution_count": 17,
   "metadata": {
    "collapsed": false
   },
   "outputs": [],
   "source": [
    "# print hw\n",
    "# print i,h"
   ]
  },
  {
   "cell_type": "code",
   "execution_count": 26,
   "metadata": {
    "collapsed": false
   },
   "outputs": [],
   "source": [
    "# print hw,'Today is',w\n",
    "# print'       I give it a',x"
   ]
  },
  {
   "cell_type": "code",
   "execution_count": 36,
   "metadata": {
    "collapsed": false
   },
   "outputs": [],
   "source": [
    "# name=raw_input('What is your name?')\n",
    "# print 500*name"
   ]
  },
  {
   "cell_type": "code",
   "execution_count": null,
   "metadata": {
    "collapsed": false
   },
   "outputs": [],
   "source": []
  }
 ],
 "metadata": {
  "kernelspec": {
   "display_name": "Python 2",
   "language": "python",
   "name": "python2"
  },
  "language_info": {
   "codemirror_mode": {
    "name": "ipython",
    "version": 2
   },
   "file_extension": ".py",
   "mimetype": "text/x-python",
   "name": "python",
   "nbconvert_exporter": "python",
   "pygments_lexer": "ipython2",
   "version": "2.7.11"
  }
 },
 "nbformat": 4,
 "nbformat_minor": 0
}
