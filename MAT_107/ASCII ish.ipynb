{
 "cells": [
  {
   "cell_type": "code",
   "execution_count": 4,
   "metadata": {
    "collapsed": false
   },
   "outputs": [
    {
     "data": {
      "text/plain": [
       "'math teacher'"
      ]
     },
     "execution_count": 4,
     "metadata": {},
     "output_type": "execute_result"
    }
   ],
   "source": [
    "# a dictionary is define with braces {}\n",
    "d={'wife':'wendy','job':'math teacher','hot':'yes'}\n"
   ]
  },
  {
   "cell_type": "code",
   "execution_count": 11,
   "metadata": {
    "collapsed": false
   },
   "outputs": [],
   "source": [
    "d={}\n",
    "f=open('/users/dylan/desktop/ascii8bitbinarydictonary.txt','r')\n",
    "for i in f:\n",
    "    x=i.split()\n",
    "    a=x[0]\n",
    "    b=x[1]\n",
    "    d[a]=b\n"
   ]
  },
  {
   "cell_type": "code",
   "execution_count": 12,
   "metadata": {
    "collapsed": false
   },
   "outputs": [
    {
     "data": {
      "text/plain": [
       "<open file '/users/dylan/desktop/ascii8bitbinarydictonary.txt', mode 'r' at 0x103d1ec90>"
      ]
     },
     "execution_count": 12,
     "metadata": {},
     "output_type": "execute_result"
    }
   ],
   "source": [
    "f"
   ]
  },
  {
   "cell_type": "code",
   "execution_count": 14,
   "metadata": {
    "collapsed": false
   },
   "outputs": [
    {
     "data": {
      "text/plain": [
       "{'!': '00100001',\n",
       " '\"': '00100010',\n",
       " '#': '00100100',\n",
       " '%': '00100101',\n",
       " '&': '00100110',\n",
       " \"'\": '00100111',\n",
       " '(': '00101000',\n",
       " ')': '00101001',\n",
       " '*': '00101010',\n",
       " '+': '00101011',\n",
       " ',': '00101100',\n",
       " '-': '00101101',\n",
       " '.': '00101110',\n",
       " '/': '00101111',\n",
       " '0': '00110000',\n",
       " '1': '00110001',\n",
       " '2': '00110010',\n",
       " '3': '00110011',\n",
       " '4': '00110100',\n",
       " '5': '00110101',\n",
       " '6': '00110110',\n",
       " '7': '00110111',\n",
       " '8': '00111000',\n",
       " '9': '00111001',\n",
       " ':': '00111010',\n",
       " ';': '00111011',\n",
       " '<': '00111100',\n",
       " '=': '00111101',\n",
       " '>': '00111110',\n",
       " '?': '00111111',\n",
       " '@': '01000000',\n",
       " 'A': '01000001',\n",
       " 'B': '01000010',\n",
       " 'C': '01000011',\n",
       " 'D': '01000100',\n",
       " 'E': '01000101',\n",
       " 'F': '01000110',\n",
       " 'G': '01000111',\n",
       " 'H': '01001000',\n",
       " 'I': '01001001',\n",
       " 'J': '01001010',\n",
       " 'K': '01001011',\n",
       " 'L': '01001100',\n",
       " 'M': '01001101',\n",
       " 'N': '01001110',\n",
       " 'O': '01001111',\n",
       " 'P': '01010000',\n",
       " 'Q': '01010001',\n",
       " 'R': '01010010',\n",
       " 'S': '01010011',\n",
       " 'T': '01010100',\n",
       " 'U': '01010101',\n",
       " 'V': '01010110',\n",
       " 'W': '01010111',\n",
       " 'X': '01011000',\n",
       " 'Y': '01011001',\n",
       " 'Z': '01011010',\n",
       " '[': '01011011',\n",
       " '\\\\': '01011100',\n",
       " ']': '01011101',\n",
       " '^': '01011110',\n",
       " '_': '01011111',\n",
       " '`': '01100000',\n",
       " 'a': '01100001',\n",
       " 'b': '01100010',\n",
       " 'c': '01100011',\n",
       " 'd': '01100100',\n",
       " 'e': '01100101',\n",
       " 'f': '01100110',\n",
       " 'g': '01100111',\n",
       " 'h': '01101000',\n",
       " 'i': '01101001',\n",
       " 'j': '01101010',\n",
       " 'k': '01101011',\n",
       " 'l': '01101100',\n",
       " 'm': '01101101',\n",
       " 'n': '01101110',\n",
       " 'o': '01101111',\n",
       " 'p': '01110000',\n",
       " 'q': '01110001',\n",
       " 'r': '01110010',\n",
       " 's': '01110011',\n",
       " 't': '01110100',\n",
       " 'u': '01110101',\n",
       " 'v': '01110110',\n",
       " 'w': '01110111',\n",
       " 'x': '01111000',\n",
       " 'y': '01111001',\n",
       " 'z': '01111010',\n",
       " '{': '01111011',\n",
       " '|': '01111100',\n",
       " '}': '01111101',\n",
       " '~': '01111110'}"
      ]
     },
     "execution_count": 14,
     "metadata": {},
     "output_type": "execute_result"
    }
   ],
   "source": [
    "d"
   ]
  },
  {
   "cell_type": "code",
   "execution_count": 15,
   "metadata": {
    "collapsed": true
   },
   "outputs": [],
   "source": [
    "name='Suffolk-County-community-college-MAT107'\n",
    "code=[]\n",
    "for i in name:\n",
    "    code.append(d[i])\n",
    "code=''.join(code)"
   ]
  },
  {
   "cell_type": "code",
   "execution_count": 16,
   "metadata": {
    "collapsed": false
   },
   "outputs": [
    {
     "data": {
      "text/plain": [
       "'010100110111010101100110011001100110111101101100011010110010110101000011011011110111010101101110011101000111100100101101011000110110111101101101011011010111010101101110011010010111010001111001001011010110001101101111011011000110110001100101011001110110010100101101010011010100000101010100001100010011000000110111'"
      ]
     },
     "execution_count": 16,
     "metadata": {},
     "output_type": "execute_result"
    }
   ],
   "source": [
    "code"
   ]
  },
  {
   "cell_type": "code",
   "execution_count": 17,
   "metadata": {
    "collapsed": false
   },
   "outputs": [
    {
     "data": {
      "text/plain": [
       "'010100110111010101100110011001100110111101101100011010110010110101000011011011110111010101101110011101000111100100101101011000110110111101101101011011010111010101101110011010010111010001111001001011010110001101101111011011000110110001100101011001110110010100101101010011010100000101010100001100010011000000110111'"
      ]
     },
     "execution_count": 17,
     "metadata": {},
     "output_type": "execute_result"
    }
   ],
   "source": [
    "s=''\n",
    "for i in name:\n",
    "    s+=d[i]\n",
    "s"
   ]
  },
  {
   "cell_type": "code",
   "execution_count": 18,
   "metadata": {
    "collapsed": true
   },
   "outputs": [],
   "source": [
    "n=8\n",
    "group=[code[i:i+n]for i in range(0,len(code),n)]"
   ]
  },
  {
   "cell_type": "code",
   "execution_count": 19,
   "metadata": {
    "collapsed": false
   },
   "outputs": [
    {
     "data": {
      "text/plain": [
       "['01010011',\n",
       " '01110101',\n",
       " '01100110',\n",
       " '01100110',\n",
       " '01101111',\n",
       " '01101100',\n",
       " '01101011',\n",
       " '00101101',\n",
       " '01000011',\n",
       " '01101111',\n",
       " '01110101',\n",
       " '01101110',\n",
       " '01110100',\n",
       " '01111001',\n",
       " '00101101',\n",
       " '01100011',\n",
       " '01101111',\n",
       " '01101101',\n",
       " '01101101',\n",
       " '01110101',\n",
       " '01101110',\n",
       " '01101001',\n",
       " '01110100',\n",
       " '01111001',\n",
       " '00101101',\n",
       " '01100011',\n",
       " '01101111',\n",
       " '01101100',\n",
       " '01101100',\n",
       " '01100101',\n",
       " '01100111',\n",
       " '01100101',\n",
       " '00101101',\n",
       " '01001101',\n",
       " '01000001',\n",
       " '01010100',\n",
       " '00110001',\n",
       " '00110000',\n",
       " '00110111']"
      ]
     },
     "execution_count": 19,
     "metadata": {},
     "output_type": "execute_result"
    }
   ],
   "source": [
    "group"
   ]
  },
  {
   "cell_type": "code",
   "execution_count": 20,
   "metadata": {
    "collapsed": false
   },
   "outputs": [
    {
     "ename": "SyntaxError",
     "evalue": "invalid syntax (<ipython-input-20-69908656f898>, line 1)",
     "output_type": "error",
     "traceback": [
      "\u001b[0;36m  File \u001b[0;32m\"<ipython-input-20-69908656f898>\"\u001b[0;36m, line \u001b[0;32m1\u001b[0m\n\u001b[0;31m    inv_map = [v:k for k,v in d.items()]\u001b[0m\n\u001b[0m                ^\u001b[0m\n\u001b[0;31mSyntaxError\u001b[0m\u001b[0;31m:\u001b[0m invalid syntax\n"
     ]
    }
   ],
   "source": [
    "inv_map = [v:k for k,v in d.items()]\n",
    "def letter(binary):\n",
    "    return inv_map[binary]"
   ]
  },
  {
   "cell_type": "code",
   "execution_count": 21,
   "metadata": {
    "collapsed": false
   },
   "outputs": [
    {
     "ename": "NameError",
     "evalue": "name 'letter' is not defined",
     "output_type": "error",
     "traceback": [
      "\u001b[0;31m---------------------------------------------------------------------------\u001b[0m",
      "\u001b[0;31mNameError\u001b[0m                                 Traceback (most recent call last)",
      "\u001b[0;32m<ipython-input-21-f58306e8b58f>\u001b[0m in \u001b[0;36m<module>\u001b[0;34m()\u001b[0m\n\u001b[0;32m----> 1\u001b[0;31m \u001b[0mletter\u001b[0m\u001b[0;34m(\u001b[0m\u001b[0mgroup\u001b[0m\u001b[0;34m)\u001b[0m\u001b[0;34m\u001b[0m\u001b[0m\n\u001b[0m",
      "\u001b[0;31mNameError\u001b[0m: name 'letter' is not defined"
     ]
    }
   ],
   "source": [
    "letter(group)"
   ]
  },
  {
   "cell_type": "code",
   "execution_count": 22,
   "metadata": {
    "collapsed": false
   },
   "outputs": [
    {
     "ename": "NameError",
     "evalue": "name 'letter' is not defined",
     "output_type": "error",
     "traceback": [
      "\u001b[0;31m---------------------------------------------------------------------------\u001b[0m",
      "\u001b[0;31mNameError\u001b[0m                                 Traceback (most recent call last)",
      "\u001b[0;32m<ipython-input-22-1bf07216d388>\u001b[0m in \u001b[0;36m<module>\u001b[0;34m()\u001b[0m\n\u001b[0;32m----> 1\u001b[0;31m \u001b[0mstring\u001b[0m \u001b[0;34m=\u001b[0m \u001b[0mmap\u001b[0m\u001b[0;34m(\u001b[0m\u001b[0mletter\u001b[0m\u001b[0;34m,\u001b[0m \u001b[0mgroup\u001b[0m\u001b[0;34m)\u001b[0m\u001b[0;34m\u001b[0m\u001b[0m\n\u001b[0m",
      "\u001b[0;31mNameError\u001b[0m: name 'letter' is not defined"
     ]
    }
   ],
   "source": [
    "string = map(letter, group)"
   ]
  },
  {
   "cell_type": "code",
   "execution_count": null,
   "metadata": {
    "collapsed": true
   },
   "outputs": [],
   "source": [
    "string2 = ''.join(string)"
   ]
  }
 ],
 "metadata": {
  "kernelspec": {
   "display_name": "Python 2",
   "language": "python",
   "name": "python2"
  },
  "language_info": {
   "codemirror_mode": {
    "name": "ipython",
    "version": 2
   },
   "file_extension": ".py",
   "mimetype": "text/x-python",
   "name": "python",
   "nbconvert_exporter": "python",
   "pygments_lexer": "ipython2",
   "version": "2.7.11"
  }
 },
 "nbformat": 4,
 "nbformat_minor": 0
}
