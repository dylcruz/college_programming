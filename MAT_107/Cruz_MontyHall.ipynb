{
 "cells": [
  {
   "cell_type": "code",
   "execution_count": 53,
   "metadata": {
    "collapsed": false
   },
   "outputs": [],
   "source": [
    "import random as r\n",
    "import pandas as pd\n",
    "\n",
    "wins = 0.0\n",
    "outcome = []\n",
    "cumulative = []\n",
    "prob = []\n",
    "\n",
    "for i in range(1,10001):\n",
    "    guess = 1\n",
    "    s = r.randint(1,3)\n",
    "    elim = r.randint(1,3)\n",
    "    while(elim == s or elim == guess):\n",
    "        elim = r.randint(1,3)\n",
    "    \n",
    "    if(elim == 2):\n",
    "        guess = 3\n",
    "    elif(elim == 3):\n",
    "        guess = 2\n",
    "\n",
    "    if(guess == s):\n",
    "        wins += 1\n",
    "        outcome.append(1)\n",
    "        cumulative.append(wins)\n",
    "        prob.append(wins / i)\n",
    "    else:\n",
    "        outcome.append(0)\n",
    "        cumulative.append(wins)\n",
    "        prob.append(wins / i)"
   ]
  },
  {
   "cell_type": "code",
   "execution_count": 54,
   "metadata": {
    "collapsed": false
   },
   "outputs": [],
   "source": [
    "monty = list(zip(outcome, cumulative, prob))"
   ]
  },
  {
   "cell_type": "code",
   "execution_count": 55,
   "metadata": {
    "collapsed": false
   },
   "outputs": [],
   "source": [
    "df = pd.DataFrame(data = monty, columns = ['Outcome: 1 = win, 0 = lose', 'Cumulative Wins', 'Running Probability'])"
   ]
  },
  {
   "cell_type": "code",
   "execution_count": 57,
   "metadata": {
    "collapsed": false
   },
   "outputs": [
    {
     "data": {
      "text/html": [
       "<div>\n",
       "<table border=\"1\" class=\"dataframe\">\n",
       "  <thead>\n",
       "    <tr style=\"text-align: right;\">\n",
       "      <th></th>\n",
       "      <th>Outcome: 1 = win, 0 = lose</th>\n",
       "      <th>Cumulative Wins</th>\n",
       "      <th>Running Probability</th>\n",
       "    </tr>\n",
       "  </thead>\n",
       "  <tbody>\n",
       "    <tr>\n",
       "      <th>0</th>\n",
       "      <td>1</td>\n",
       "      <td>1</td>\n",
       "      <td>1.000000</td>\n",
       "    </tr>\n",
       "    <tr>\n",
       "      <th>1</th>\n",
       "      <td>0</td>\n",
       "      <td>1</td>\n",
       "      <td>0.500000</td>\n",
       "    </tr>\n",
       "    <tr>\n",
       "      <th>2</th>\n",
       "      <td>1</td>\n",
       "      <td>2</td>\n",
       "      <td>0.666667</td>\n",
       "    </tr>\n",
       "    <tr>\n",
       "      <th>3</th>\n",
       "      <td>1</td>\n",
       "      <td>3</td>\n",
       "      <td>0.750000</td>\n",
       "    </tr>\n",
       "    <tr>\n",
       "      <th>4</th>\n",
       "      <td>0</td>\n",
       "      <td>3</td>\n",
       "      <td>0.600000</td>\n",
       "    </tr>\n",
       "  </tbody>\n",
       "</table>\n",
       "</div>"
      ],
      "text/plain": [
       "   Outcome: 1 = win, 0 = lose  Cumulative Wins  Running Probability\n",
       "0                           1                1             1.000000\n",
       "1                           0                1             0.500000\n",
       "2                           1                2             0.666667\n",
       "3                           1                3             0.750000\n",
       "4                           0                3             0.600000"
      ]
     },
     "execution_count": 57,
     "metadata": {},
     "output_type": "execute_result"
    }
   ],
   "source": [
    "df.head(5)"
   ]
  },
  {
   "cell_type": "code",
   "execution_count": 58,
   "metadata": {
    "collapsed": false
   },
   "outputs": [
    {
     "data": {
      "text/html": [
       "<div>\n",
       "<table border=\"1\" class=\"dataframe\">\n",
       "  <thead>\n",
       "    <tr style=\"text-align: right;\">\n",
       "      <th></th>\n",
       "      <th>Outcome: 1 = win, 0 = lose</th>\n",
       "      <th>Cumulative Wins</th>\n",
       "      <th>Running Probability</th>\n",
       "    </tr>\n",
       "  </thead>\n",
       "  <tbody>\n",
       "    <tr>\n",
       "      <th>9995</th>\n",
       "      <td>1</td>\n",
       "      <td>6667</td>\n",
       "      <td>0.666967</td>\n",
       "    </tr>\n",
       "    <tr>\n",
       "      <th>9996</th>\n",
       "      <td>1</td>\n",
       "      <td>6668</td>\n",
       "      <td>0.667000</td>\n",
       "    </tr>\n",
       "    <tr>\n",
       "      <th>9997</th>\n",
       "      <td>0</td>\n",
       "      <td>6668</td>\n",
       "      <td>0.666933</td>\n",
       "    </tr>\n",
       "    <tr>\n",
       "      <th>9998</th>\n",
       "      <td>1</td>\n",
       "      <td>6669</td>\n",
       "      <td>0.666967</td>\n",
       "    </tr>\n",
       "    <tr>\n",
       "      <th>9999</th>\n",
       "      <td>1</td>\n",
       "      <td>6670</td>\n",
       "      <td>0.667000</td>\n",
       "    </tr>\n",
       "  </tbody>\n",
       "</table>\n",
       "</div>"
      ],
      "text/plain": [
       "      Outcome: 1 = win, 0 = lose  Cumulative Wins  Running Probability\n",
       "9995                           1             6667             0.666967\n",
       "9996                           1             6668             0.667000\n",
       "9997                           0             6668             0.666933\n",
       "9998                           1             6669             0.666967\n",
       "9999                           1             6670             0.667000"
      ]
     },
     "execution_count": 58,
     "metadata": {},
     "output_type": "execute_result"
    }
   ],
   "source": [
    "df.tail(5)"
   ]
  },
  {
   "cell_type": "code",
   "execution_count": null,
   "metadata": {
    "collapsed": true
   },
   "outputs": [],
   "source": []
  }
 ],
 "metadata": {
  "kernelspec": {
   "display_name": "Python 2",
   "language": "python",
   "name": "python2"
  },
  "language_info": {
   "codemirror_mode": {
    "name": "ipython",
    "version": 2
   },
   "file_extension": ".py",
   "mimetype": "text/x-python",
   "name": "python",
   "nbconvert_exporter": "python",
   "pygments_lexer": "ipython2",
   "version": "2.7.11"
  }
 },
 "nbformat": 4,
 "nbformat_minor": 0
}
