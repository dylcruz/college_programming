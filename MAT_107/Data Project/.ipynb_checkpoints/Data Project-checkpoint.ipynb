{
 "cells": [
  {
   "cell_type": "code",
   "execution_count": 155,
   "metadata": {
    "collapsed": false
   },
   "outputs": [],
   "source": [
    "%matplotlib inline\n",
    "import matplotlib.pyplot as plt\n",
    "import numpy as np\n",
    "import pandas as pd\n",
    "\n",
    "def scoreCalc(mABG, mD):\n",
    "    if mABG > 240:\n",
    "        if mD >= -20 and mD <= 20:\n",
    "            return 50\n",
    "        elif mD >= 21 and mD <= 99:\n",
    "            return 60\n",
    "        elif mD >= -99 and mD <= -21:\n",
    "            return 40\n",
    "        elif mD >= 100:\n",
    "            return 80\n",
    "        elif mD <= -100:\n",
    "            return 45\n",
    "    elif mABG >= 140 and mABG <= 239:\n",
    "        if mD >= -20 and mD <= 20:\n",
    "            return 25\n",
    "        elif mD >= 21 and mD <= 99:\n",
    "            return 45\n",
    "        elif mD >= -99 and mD <= -21:\n",
    "            return 20\n",
    "        elif mD >= 100:\n",
    "            return 65\n",
    "        elif mD <= -100:\n",
    "            return 60\n",
    "    elif mABG >= 70 and mABG <= 139:\n",
    "        if mD >= -20 and mD <= 20:\n",
    "            return 0\n",
    "        elif mD >= 21 and mD <= 99:\n",
    "            return 2\n",
    "        elif mD >= -99 and mD <= -21:\n",
    "            return 2\n",
    "        elif mD >= 100:\n",
    "            return 60\n",
    "        elif mD <= -100:\n",
    "            return 95\n",
    "    elif mABG < 70:\n",
    "        if mD >= -20 and mD <= 20:\n",
    "            return 75\n",
    "        elif mD >= 21 and mD <= 99:\n",
    "            return 10\n",
    "        elif mD >= -99 and mD <= -21:\n",
    "            return 95\n",
    "        elif mD >= 100:\n",
    "            return 45\n",
    "        elif mD <= -100:\n",
    "            return 100\n",
    "\n",
    "def breakUp(day):\n",
    "    n = 16\n",
    "    modDay = [day['BG'][i : i + n] for i in range(0, len(day),n)]\n",
    "    return modDay\n",
    "\n",
    "def dailyScoreCalc(day):\n",
    "    dailyScore = []\n",
    "    for i in range(0, len(day)):\n",
    "        day[i] = day[i].tolist()\n",
    "        mABG = (day[i][0] + day[i][1] + day[i][2] + day[i][3] + day[i][4]) / 5\n",
    "        mD = day[i][15] - day[i][0]\n",
    "        dailyScore.append(scoreCalc(mABG, mD))\n",
    "    return sum(dailyScore)\n",
    "\n",
    "data = '/Users/Dylan/Google Drive/Suffolk/SP 16/MAT 107/Data Project/data.txt'"
   ]
  },
  {
   "cell_type": "code",
   "execution_count": 156,
   "metadata": {
    "collapsed": false
   },
   "outputs": [],
   "source": [
    "df = pd.read_csv(data,sep = '\\t')\n",
    "del df['Notes:']\n",
    "del df['Unnamed: 4']\n",
    "del df['Unnamed: 5']\n",
    "del df['Unnamed: 6']"
   ]
  },
  {
   "cell_type": "code",
   "execution_count": 157,
   "metadata": {
    "collapsed": false
   },
   "outputs": [
    {
     "data": {
      "text/html": [
       "<div>\n",
       "<table border=\"1\" class=\"dataframe\">\n",
       "  <thead>\n",
       "    <tr style=\"text-align: right;\">\n",
       "      <th></th>\n",
       "      <th>Date</th>\n",
       "      <th>Timestamp</th>\n",
       "      <th>BG</th>\n",
       "    </tr>\n",
       "  </thead>\n",
       "  <tbody>\n",
       "    <tr>\n",
       "      <th>0</th>\n",
       "      <td>7/1/15</td>\n",
       "      <td>0:00:00</td>\n",
       "      <td>217</td>\n",
       "    </tr>\n",
       "    <tr>\n",
       "      <th>1</th>\n",
       "      <td>7/1/15</td>\n",
       "      <td>0:05:00</td>\n",
       "      <td>223</td>\n",
       "    </tr>\n",
       "    <tr>\n",
       "      <th>2</th>\n",
       "      <td>7/1/15</td>\n",
       "      <td>0:10:00</td>\n",
       "      <td>228</td>\n",
       "    </tr>\n",
       "  </tbody>\n",
       "</table>\n",
       "</div>"
      ],
      "text/plain": [
       "     Date Timestamp   BG\n",
       "0  7/1/15   0:00:00  217\n",
       "1  7/1/15   0:05:00  223\n",
       "2  7/1/15   0:10:00  228"
      ]
     },
     "execution_count": 157,
     "metadata": {},
     "output_type": "execute_result"
    }
   ],
   "source": [
    "df.head(3)"
   ]
  },
  {
   "cell_type": "code",
   "execution_count": 158,
   "metadata": {
    "collapsed": false
   },
   "outputs": [],
   "source": [
    "days = df.groupby('Date')"
   ]
  },
  {
   "cell_type": "code",
   "execution_count": 159,
   "metadata": {
    "collapsed": false
   },
   "outputs": [],
   "source": [
    "july01 = days.get_group(\"7/1/15\")\n",
    "july02 = days.get_group(\"7/2/15\")\n",
    "july03 = days.get_group(\"7/3/15\")\n",
    "july04 = days.get_group(\"7/4/15\")\n",
    "july05 = days.get_group(\"7/5/15\")\n",
    "july06 = days.get_group(\"7/6/15\")\n",
    "july07 = days.get_group(\"7/7/15\")\n",
    "july08 = days.get_group(\"7/8/15\")\n",
    "july09 = days.get_group(\"7/9/15\")\n",
    "july10 = days.get_group(\"7/10/15\")\n",
    "july11 = days.get_group(\"7/11/15\")\n",
    "july12 = days.get_group(\"7/12/15\")\n",
    "july13 = days.get_group(\"7/13/15\")\n",
    "july14 = days.get_group(\"7/14/15\")"
   ]
  },
  {
   "cell_type": "code",
   "execution_count": 160,
   "metadata": {
    "collapsed": false
   },
   "outputs": [],
   "source": [
    "modJuly01 = breakUp(july01)\n",
    "modJuly02 = breakUp(july02)\n",
    "modJuly03 = breakUp(july03)\n",
    "modJuly04 = breakUp(july04)\n",
    "modJuly05 = breakUp(july05)\n",
    "modJuly06 = breakUp(july06)\n",
    "modJuly07 = breakUp(july07)\n",
    "modJuly08 = breakUp(july08)\n",
    "modJuly09 = breakUp(july09)\n",
    "modJuly10 = breakUp(july10)\n",
    "modJuly11 = breakUp(july11)\n",
    "modJuly12 = breakUp(july12)\n",
    "modJuly13 = breakUp(july13)\n",
    "modJuly14 = breakUp(july14)"
   ]
  },
  {
   "cell_type": "code",
   "execution_count": 161,
   "metadata": {
    "collapsed": false
   },
   "outputs": [],
   "source": [
    "july1Scores = dailyScoreCalc(modJuly01)\n",
    "july2Scores = dailyScoreCalc(modJuly02)\n",
    "july3Scores = dailyScoreCalc(modJuly03)\n",
    "july4Scores = dailyScoreCalc(modJuly04)\n",
    "july5Scores = dailyScoreCalc(modJuly05)\n",
    "july6Scores = dailyScoreCalc(modJuly06)\n",
    "july7Scores = dailyScoreCalc(modJuly07)\n",
    "july8Scores = dailyScoreCalc(modJuly08)\n",
    "july9Scores = dailyScoreCalc(modJuly09)\n",
    "july10Scores = dailyScoreCalc(modJuly10)\n",
    "july11Scores = dailyScoreCalc(modJuly11)\n",
    "july12Scores = dailyScoreCalc(modJuly12)\n",
    "july13Scores = dailyScoreCalc(modJuly13)\n",
    "july14Scores = dailyScoreCalc(modJuly14)"
   ]
  },
  {
   "cell_type": "code",
   "execution_count": 162,
   "metadata": {
    "collapsed": false
   },
   "outputs": [],
   "source": [
    "scores = [july1Scores, july2Scores, july3Scores, july4Scores, july5Scores, july6Scores, july7Scores, july8Scores, \n",
    "         july9Scores, july10Scores, july11Scores, july12Scores, july13Scores, july14Scores, ]"
   ]
  },
  {
   "cell_type": "code",
   "execution_count": 163,
   "metadata": {
    "collapsed": false
   },
   "outputs": [
    {
     "data": {
      "text/plain": [
       "[564, 604, 614, 629, 639, 713, 743, 622, 403, 670, 428, 381, 496, 592]"
      ]
     },
     "execution_count": 163,
     "metadata": {},
     "output_type": "execute_result"
    }
   ],
   "source": [
    "scores"
   ]
  },
  {
   "cell_type": "code",
   "execution_count": 164,
   "metadata": {
    "collapsed": false
   },
   "outputs": [
    {
     "data": {
      "image/png": "[encoded data removed]",
      "text/plain": [
       "<matplotlib.figure.Figure at 0x107a86750>"
      ]
     },
     "metadata": {},
     "output_type": "display_data"
    }
   ],
   "source": [
    "plt.plot(scores)\n",
    "plt.ylabel(\"Daily CGM Scores\")\n",
    "plt.xlabel(\"Days\")\n",
    "plt.show()"
   ]
  },
  {
   "cell_type": "code",
   "execution_count": 166,
   "metadata": {
    "collapsed": false
   },
   "outputs": [
    {
     "name": "stdout",
     "output_type": "stream",
     "text": [
      "Minimum: 381\n",
      "Quartile 1: 513.0\n",
      "Median: 609.0\n",
      "Quartile 3: 636.5\n",
      "Maximum: 743\n"
     ]
    }
   ],
   "source": [
    "print('Minimum: ' +  str(min(scores)))\n",
    "print('Quartile 1: ' + str(np.percentile(scores, 25)))\n",
    "print('Median: ' + str(np.median(scores)))\n",
    "print('Quartile 3: ' +  str(np.percentile(scores, 75)))\n",
    "print('Maximum: ' + str(max(scores)))"
   ]
  },
  {
   "cell_type": "code",
   "execution_count": null,
   "metadata": {
    "collapsed": false
   },
   "outputs": [],
   "source": []
  }
 ],
 "metadata": {
  "kernelspec": {
   "display_name": "Python 2",
   "language": "python",
   "name": "python2"
  },
  "language_info": {
   "codemirror_mode": {
    "name": "ipython",
    "version": 2
   },
   "file_extension": ".py",
   "mimetype": "text/x-python",
   "name": "python",
   "nbconvert_exporter": "python",
   "pygments_lexer": "ipython2",
   "version": "2.7.11"
  }
 },
 "nbformat": 4,
 "nbformat_minor": 0
}
