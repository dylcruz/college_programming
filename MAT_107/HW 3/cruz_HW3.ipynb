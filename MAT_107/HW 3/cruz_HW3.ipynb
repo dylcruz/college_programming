{
 "cells": [
  {
   "cell_type": "code",
   "execution_count": null,
   "metadata": {
    "collapsed": false
   },
   "outputs": [],
   "source": [
    "%matplotlib inline\n",
    "import numpy as np\n",
    "import matplotlib.pyplot as plt\n",
    "\n",
    "with open('/Users/Dylan/Google Drive/Suffolk/SP 16/MAT 107/HW 3/random_integers.txt','r') as f:\n",
    "    for line in f:\n",
    "        numbers = map(float, line.split())\n",
    "\n",
    "print('Minimum:', min(numbers))\n",
    "print('Quartile 1:', np.percentile(numbers, 25))\n",
    "print('Median:', np.median(numbers))\n",
    "print('Quartile 3:', np.percentile(numbers, 75))\n",
    "print('Maximum:', max(numbers))\n",
    "\n",
    "fns = [min(numbers), np.percentile(numbers, 25), np.median(numbers), np.percentile(numbers, 75), max(numbers)]\n"
   ]
  },
  {
   "cell_type": "code",
   "execution_count": null,
   "metadata": {
    "collapsed": true
   },
   "outputs": [],
   "source": [
    "plt.boxplot(fns)\n",
    "plt.show()"
   ]
  },
  {
   "cell_type": "code",
   "execution_count": null,
   "metadata": {
    "collapsed": true
   },
   "outputs": [],
   "source": []
  }
 ],
 "metadata": {
  "kernelspec": {
   "display_name": "Python 2",
   "language": "python",
   "name": "python2"
  },
  "language_info": {
   "codemirror_mode": {
    "name": "ipython",
    "version": 2
   },
   "file_extension": ".py",
   "mimetype": "text/x-python",
   "name": "python",
   "nbconvert_exporter": "python",
   "pygments_lexer": "ipython2",
   "version": "2.7.11"
  }
 },
 "nbformat": 4,
 "nbformat_minor": 0
}
