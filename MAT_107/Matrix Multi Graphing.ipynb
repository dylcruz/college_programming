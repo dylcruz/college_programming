{
 "cells": [
  {
   "cell_type": "code",
   "execution_count": 53,
   "metadata": {
    "collapsed": true
   },
   "outputs": [],
   "source": [
    "%matplotlib inline\n",
    "import matplotlib.pyplot as plt\n",
    "import numpy as np"
   ]
  },
  {
   "cell_type": "code",
   "execution_count": 54,
   "metadata": {
    "collapsed": false
   },
   "outputs": [],
   "source": [
    "# define point p\n",
    "# define transformation matrix T\n",
    "# multiply Tp to produce the image p1\n",
    "# plot p and p1 to visualize the transformation\n",
    "\n",
    "p = [2,3]\n",
    "T = [[1,0],[0,2]]\n",
    "p1 = np.dot(T,p)"
   ]
  },
  {
   "cell_type": "code",
   "execution_count": 55,
   "metadata": {
    "collapsed": false
   },
   "outputs": [
    {
     "data": {
      "image/png": "[encoded data removed]",
      "text/plain": [
       "<matplotlib.figure.Figure at 0x107366250>"
      ]
     },
     "metadata": {},
     "output_type": "display_data"
    }
   ],
   "source": [
    "plt.plot(p[0],p[1],'ro')\n",
    "plt.plot(p1[0],p1[1],'bo')\n",
    "plt.axhline(y = 0, color = 'k')\n",
    "plt.axvline(x = 0, color = 'k')\n",
    "plt.axis([-5,5,-10,10])\n",
    "plt.title('Scale y coordinate with matrix multiplication', size = 12)\n",
    "plt.xlabel('x axis', position = (.9,0), labelpad = -125)\n",
    "plt.ylabel('y axis', position = (1,.9), labelpad = -190)\n",
    "plt.show()"
   ]
  },
  {
   "cell_type": "code",
   "execution_count": 56,
   "metadata": {
    "collapsed": false
   },
   "outputs": [],
   "source": [
    "# reflection in the x axis\n",
    "Trx = [[1,0],[0,-1]]\n",
    "p2 = np.dot(Trx,p)"
   ]
  },
  {
   "cell_type": "code",
   "execution_count": 57,
   "metadata": {
    "collapsed": false
   },
   "outputs": [
    {
     "data": {
      "image/png": "[encoded data removed]",
      "text/plain": [
       "<matplotlib.figure.Figure at 0x105bec310>"
      ]
     },
     "metadata": {},
     "output_type": "display_data"
    }
   ],
   "source": [
    "plt.plot(p[0],p[1],'ro')\n",
    "plt.plot(p2[0],p2[1],'go')\n",
    "plt.axhline(y = 0, color = 'k')\n",
    "plt.axvline(x = 0, color = 'k')\n",
    "plt.axis([-5,5,-10,10])\n",
    "plt.title('Transformation over x-axis', size = 12)\n",
    "plt.xlabel('x axis', position = (.9,0), labelpad = -125)\n",
    "plt.ylabel('y axis', position = (1,.9), labelpad = -190)\n",
    "plt.show()"
   ]
  },
  {
   "cell_type": "code",
   "execution_count": 58,
   "metadata": {
    "collapsed": true
   },
   "outputs": [],
   "source": [
    "# reflection in the y axis\n",
    "Try = [[-1,0],[0,1]]\n",
    "p3 = np.dot(Try,p)"
   ]
  },
  {
   "cell_type": "code",
   "execution_count": 59,
   "metadata": {
    "collapsed": false
   },
   "outputs": [
    {
     "data": {
      "image/png": "[encoded data removed]",
      "text/plain": [
       "<matplotlib.figure.Figure at 0x107319c50>"
      ]
     },
     "metadata": {},
     "output_type": "display_data"
    }
   ],
   "source": [
    "plt.plot(p[0],p[1],'ro')\n",
    "plt.plot(p3[0],p3[1],'yo')\n",
    "plt.axhline(y = 0, color = 'k')\n",
    "plt.axvline(x = 0, color = 'k')\n",
    "plt.axis([-5,5,-10,10])\n",
    "plt.title('Transformation over y-axis', size = 12)\n",
    "plt.xlabel('x axis', position = (.9,0), labelpad = -125)\n",
    "plt.ylabel('y axis', position = (1,.9), labelpad = -190)\n",
    "plt.show()"
   ]
  },
  {
   "cell_type": "code",
   "execution_count": 60,
   "metadata": {
    "collapsed": false
   },
   "outputs": [],
   "source": [
    "# reflection in the y and x axis\n",
    "Trxy = np.dot(Try,Trx)\n",
    "p4 = np.dot(Trxy,p)"
   ]
  },
  {
   "cell_type": "code",
   "execution_count": 62,
   "metadata": {
    "collapsed": false
   },
   "outputs": [
    {
     "data": {
      "image/png": "[encoded data removed]",
      "text/plain": [
       "<matplotlib.figure.Figure at 0x10638fc90>"
      ]
     },
     "metadata": {},
     "output_type": "display_data"
    }
   ],
   "source": [
    "plt.plot(p[0],p[1],'ro')\n",
    "plt.plot(p4[0],p4[1],'mo')\n",
    "plt.axhline(y = 0, color = 'k')\n",
    "plt.axvline(x = 0, color = 'k')\n",
    "plt.axis([-5,5,-10,10])\n",
    "plt.title('Transformation over y-axis', size = 12)\n",
    "plt.xlabel('x axis', position = (.9,0), labelpad = -125)\n",
    "plt.ylabel('y axis', position = (1,.9), labelpad = -190)\n",
    "plt.show()"
   ]
  },
  {
   "cell_type": "code",
   "execution_count": null,
   "metadata": {
    "collapsed": true
   },
   "outputs": [],
   "source": []
  }
 ],
 "metadata": {
  "kernelspec": {
   "display_name": "Python 2",
   "language": "python",
   "name": "python2"
  },
  "language_info": {
   "codemirror_mode": {
    "name": "ipython",
    "version": 2
   },
   "file_extension": ".py",
   "mimetype": "text/x-python",
   "name": "python",
   "nbconvert_exporter": "python",
   "pygments_lexer": "ipython2",
   "version": "2.7.11"
  }
 },
 "nbformat": 4,
 "nbformat_minor": 0
}
