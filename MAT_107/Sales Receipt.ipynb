{
 "cells": [
  {
   "cell_type": "code",
   "execution_count": 18,
   "metadata": {
    "collapsed": false
   },
   "outputs": [
    {
     "name": "stdout",
     "output_type": "stream",
     "text": [
      "('Subtotal before discount: $', 118.59)\n",
      "('Subtotal after discount: $', 83.01299999999999)\n",
      "('Tax amount: $', 7.159871249999998)\n",
      "('Total: $', 90.17287124999999)\n"
     ]
    }
   ],
   "source": [
    "tee =21.6;\n",
    "tights =27;\n",
    "shoes =69.99;\n",
    "\n",
    "sub = tee + tights + shoes;\n",
    "disc =.7;\n",
    "dsub = disc * sub;\n",
    "nyst =.08625;\n",
    "tax = nyst * dsub;\n",
    "total = tax + dsub;\n",
    "\n",
    "print('Subtotal before discount: $',sub);\n",
    "print('Subtotal after discount: $',dsub);\n",
    "print('Tax amount: $',tax);\n",
    "print('Total: $',total);"
   ]
  }
 ],
 "metadata": {
  "kernelspec": {
   "display_name": "Python 2",
   "language": "python",
   "name": "python2"
  },
  "language_info": {
   "codemirror_mode": {
    "name": "ipython",
    "version": 2
   },
   "file_extension": ".py",
   "mimetype": "text/x-python",
   "name": "python",
   "nbconvert_exporter": "python",
   "pygments_lexer": "ipython2",
   "version": "2.7.11"
  }
 },
 "nbformat": 4,
 "nbformat_minor": 0
}
