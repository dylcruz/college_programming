{
 "metadata": {
  "name": "",
  "signature": "sha256:e901ae6cfcc3fc3486dd48c7e1dfd69f69458d14109e892aececf585bcb19b3f"
 },
 "nbformat": 3,
 "nbformat_minor": 0,
 "worksheets": [
  {
   "cells": [
    {
     "cell_type": "heading",
     "level": 1,
     "metadata": {},
     "source": [
      "ASCII 8-bit binary code"
     ]
    },
    {
     "cell_type": "markdown",
     "metadata": {},
     "source": [
      "ASCII ( ASS-kee), abbreviated from American Standard Code for Information Interchange, is a character-encoding scheme. In computer science, each character on the keyboard corresponds with a numerical value.  Characters, or glyphs, may be represented in various numerical base systems.  The following examples encode characters in base 10 numbers (decimal), as well as base 16 numbers (Hexadecimals), and base 2 numbers (Binary).  Example: the character \u2018A\u2019 = 065 (Decimal), 41 (Hex) , 01000001 (Binary).  Character \u2018a\u2019 = 097 (Decimal), 61 (Hex), 01100001 (Binary)."
     ]
    },
    {
     "cell_type": "heading",
     "level": 1,
     "metadata": {},
     "source": [
      "Dictionaries:"
     ]
    },
    {
     "cell_type": "code",
     "collapsed": false,
     "input": [
      "# Dictionaries are defined with braces {}\n",
      "# Another name for a dictonary is a {'key' : 'value'} pair\n",
      "# A dictionary is indexed through its \u2018key\u2019 and retrieves the corresponding \u2018value\u2019.\n",
      "\n",
      "# Here we build our own dictionary\n",
      "d={'wife':'Wendy','job':'math teacher','hot':'yes'}"
     ],
     "language": "python",
     "metadata": {},
     "outputs": [],
     "prompt_number": 3
    },
    {
     "cell_type": "code",
     "collapsed": false,
     "input": [
      "d['wife']"
     ],
     "language": "python",
     "metadata": {},
     "outputs": [
      {
       "metadata": {},
       "output_type": "pyout",
       "prompt_number": 4,
       "text": [
        "'Wendy'"
       ]
      }
     ],
     "prompt_number": 4
    },
    {
     "cell_type": "code",
     "collapsed": false,
     "input": [
      "d['job']"
     ],
     "language": "python",
     "metadata": {},
     "outputs": [
      {
       "metadata": {},
       "output_type": "pyout",
       "prompt_number": 5,
       "text": [
        "'math teacher'"
       ]
      }
     ],
     "prompt_number": 5
    },
    {
     "cell_type": "code",
     "collapsed": false,
     "input": [
      "d['hot']"
     ],
     "language": "python",
     "metadata": {},
     "outputs": [
      {
       "metadata": {},
       "output_type": "pyout",
       "prompt_number": 6,
       "text": [
        "'yes'"
       ]
      }
     ],
     "prompt_number": 6
    },
    {
     "cell_type": "code",
     "collapsed": false,
     "input": [
      "# With larger dictionaries it is convenient to load them in through a .txt file.  \n",
      "# The following file (ascii4.txt) contains two columns of information in the \u2018key\u2019\t\u2018value\u2019 format.  \n",
      "# We define an empty dictionary d={}, then load it with the contents of the file.  "
     ],
     "language": "python",
     "metadata": {},
     "outputs": []
    },
    {
     "cell_type": "code",
     "collapsed": false,
     "input": [
      "d = {}\n",
      "f=open('/Users/michaelparente/Documents/Teaching/teaching/MAT 107/ascii4.txt','r')\n",
      "for i in f:\n",
      "    x=i.split()\n",
      "    a=x[0]\n",
      "    b=x[1]\n",
      "    d[a]=b"
     ],
     "language": "python",
     "metadata": {},
     "outputs": [],
     "prompt_number": 53
    },
    {
     "cell_type": "code",
     "collapsed": false,
     "input": [
      "d"
     ],
     "language": "python",
     "metadata": {},
     "outputs": [
      {
       "metadata": {},
       "output_type": "pyout",
       "prompt_number": 54,
       "text": [
        "{'!': '00100001',\n",
        " '\"': '00100010',\n",
        " '#': '00100100',\n",
        " '%': '00100101',\n",
        " '&': '00100110',\n",
        " \"'\": '00100111',\n",
        " '(': '00101000',\n",
        " ')': '00101001',\n",
        " '*': '00101010',\n",
        " '+': '00101011',\n",
        " ',': '00101100',\n",
        " '-': '00101101',\n",
        " '.': '00101110',\n",
        " '/': '00101111',\n",
        " '0': '00110000',\n",
        " '1': '00110001',\n",
        " '2': '00110010',\n",
        " '3': '00110011',\n",
        " '4': '00110100',\n",
        " '5': '00110101',\n",
        " '6': '00110110',\n",
        " '7': '00110111',\n",
        " '8': '00111000',\n",
        " '9': '00111001',\n",
        " ':': '00111010',\n",
        " ';': '00111011',\n",
        " '<': '00111100',\n",
        " '=': '00111101',\n",
        " '>': '00111110',\n",
        " '?': '00111111',\n",
        " '@': '01000000',\n",
        " 'A': '01000001',\n",
        " 'B': '01000010',\n",
        " 'C': '01000011',\n",
        " 'D': '01000100',\n",
        " 'E': '01000101',\n",
        " 'F': '01000110',\n",
        " 'G': '01000111',\n",
        " 'H': '01001000',\n",
        " 'I': '01001001',\n",
        " 'J': '01001010',\n",
        " 'K': '01001011',\n",
        " 'L': '01001100',\n",
        " 'M': '01001101',\n",
        " 'N': '01001110',\n",
        " 'O': '01001111',\n",
        " 'P': '01010000',\n",
        " 'Q': '01010001',\n",
        " 'R': '01010010',\n",
        " 'S': '01010011',\n",
        " 'T': '01010100',\n",
        " 'U': '01010101',\n",
        " 'V': '01010110',\n",
        " 'W': '01010111',\n",
        " 'X': '01011000',\n",
        " 'Y': '01011001',\n",
        " 'Z': '01011010',\n",
        " '[': '01011011',\n",
        " '\\\\': '01011100',\n",
        " ']': '01011101',\n",
        " '^': '01011110',\n",
        " '_': '01011111',\n",
        " '`': '01100000',\n",
        " 'a': '01100001',\n",
        " 'b': '01100010',\n",
        " 'c': '01100011',\n",
        " 'd': '01100100',\n",
        " 'e': '01100101',\n",
        " 'f': '01100110',\n",
        " 'g': '01100111',\n",
        " 'h': '01101000',\n",
        " 'i': '01101001',\n",
        " 'j': '01101010',\n",
        " 'k': '01101011',\n",
        " 'l': '01101100',\n",
        " 'm': '01101101',\n",
        " 'n': '01101110',\n",
        " 'o': '01101111',\n",
        " 'p': '01110000',\n",
        " 'q': '01110001',\n",
        " 'r': '01110010',\n",
        " 's': '01110011',\n",
        " 't': '01110100',\n",
        " 'u': '01110101',\n",
        " 'v': '01110110',\n",
        " 'w': '01110111',\n",
        " 'x': '01111000',\n",
        " 'y': '01111001',\n",
        " 'z': '01111010',\n",
        " '{': '01111011',\n",
        " '|': '01111100',\n",
        " '}': '01111101',\n",
        " '~': '01111110'}"
       ]
      }
     ],
     "prompt_number": 54
    },
    {
     "cell_type": "code",
     "collapsed": false,
     "input": [
      "name='Suffolk-County-Comunity-College-MAT107'\n",
      "code=[]\n",
      "for i in name:\n",
      "    code.append(d[i])\n",
      "code=''.join(code)"
     ],
     "language": "python",
     "metadata": {},
     "outputs": [],
     "prompt_number": 9
    },
    {
     "cell_type": "code",
     "collapsed": false,
     "input": [
      "code"
     ],
     "language": "python",
     "metadata": {},
     "outputs": [
      {
       "metadata": {},
       "output_type": "pyout",
       "prompt_number": 10,
       "text": [
        "'0101001101110101011001100110011001101111011011000110101100101101010000110110111101110101011011100111010001111001001011010100001101101111011011010111010101101110011010010111010001111001001011010100001101101111011011000110110001100101011001110110010100101101010011010100000101010100001100010011000000110111'"
       ]
      }
     ],
     "prompt_number": 10
    },
    {
     "cell_type": "heading",
     "level": 1,
     "metadata": {},
     "source": [
      "Take a break from the code to discuss indexing"
     ]
    },
    {
     "cell_type": "code",
     "collapsed": false,
     "input": [
      "# Data arrays can be indexed using the notation x[index number] or x[start:stop:step]. indices start at 0 \n",
      "# Note: python uses a half-open interval.  Meaning, the start value is included in indexing, the stop value is not.\n",
      "# If the step argument is omitted, it is taken as 1.\n",
      "# Examples: x1 is a list of strings.  x2 is a string .  x3 is a list of mixed types\n",
      "x1=['a','b','c','d','e','f','g','h','i','j']\n",
      "\n",
      "x2='0123456789'\n",
      "\n",
      "x3=[0,1,2,'Mikey',4,'Math']"
     ],
     "language": "python",
     "metadata": {},
     "outputs": [],
     "prompt_number": 4
    },
    {
     "cell_type": "code",
     "collapsed": false,
     "input": [
      "x1[5]"
     ],
     "language": "python",
     "metadata": {},
     "outputs": [
      {
       "metadata": {},
       "output_type": "pyout",
       "prompt_number": 15,
       "text": [
        "'f'"
       ]
      }
     ],
     "prompt_number": 15
    },
    {
     "cell_type": "code",
     "collapsed": false,
     "input": [
      "x1[0:4]"
     ],
     "language": "python",
     "metadata": {},
     "outputs": [
      {
       "metadata": {},
       "output_type": "pyout",
       "prompt_number": 5,
       "text": [
        "['a', 'b', 'c', 'd']"
       ]
      }
     ],
     "prompt_number": 5
    },
    {
     "cell_type": "code",
     "collapsed": false,
     "input": [
      "x1[0:5]"
     ],
     "language": "python",
     "metadata": {},
     "outputs": [
      {
       "metadata": {},
       "output_type": "pyout",
       "prompt_number": 6,
       "text": [
        "['a', 'b', 'c', 'd', 'e']"
       ]
      }
     ],
     "prompt_number": 6
    },
    {
     "cell_type": "code",
     "collapsed": false,
     "input": [
      "x1[0:9:2]"
     ],
     "language": "python",
     "metadata": {},
     "outputs": [
      {
       "metadata": {},
       "output_type": "pyout",
       "prompt_number": 7,
       "text": [
        "['a', 'c', 'e', 'g', 'i']"
       ]
      }
     ],
     "prompt_number": 7
    },
    {
     "cell_type": "code",
     "collapsed": false,
     "input": [
      "x2[0:5]"
     ],
     "language": "python",
     "metadata": {},
     "outputs": [
      {
       "metadata": {},
       "output_type": "pyout",
       "prompt_number": 8,
       "text": [
        "'01234'"
       ]
      }
     ],
     "prompt_number": 8
    },
    {
     "cell_type": "code",
     "collapsed": false,
     "input": [
      "x2[0:9:2]"
     ],
     "language": "python",
     "metadata": {},
     "outputs": [
      {
       "metadata": {},
       "output_type": "pyout",
       "prompt_number": 10,
       "text": [
        "'02468'"
       ]
      }
     ],
     "prompt_number": 10
    },
    {
     "cell_type": "code",
     "collapsed": false,
     "input": [
      "x2[3:9:3]"
     ],
     "language": "python",
     "metadata": {},
     "outputs": [
      {
       "metadata": {},
       "output_type": "pyout",
       "prompt_number": 13,
       "text": [
        "'36'"
       ]
      }
     ],
     "prompt_number": 13
    },
    {
     "cell_type": "code",
     "collapsed": false,
     "input": [
      "x3[3]"
     ],
     "language": "python",
     "metadata": {},
     "outputs": [
      {
       "metadata": {},
       "output_type": "pyout",
       "prompt_number": 14,
       "text": [
        "'Mikey'"
       ]
      }
     ],
     "prompt_number": 14
    },
    {
     "cell_type": "heading",
     "level": 1,
     "metadata": {},
     "source": [
      "Return to the code"
     ]
    },
    {
     "cell_type": "code",
     "collapsed": false,
     "input": [
      "# Break the string of digits into groups of 8\n",
      "n = 8\n",
      "group=[code[i:i+n] for i in range(0, len(code), n)]"
     ],
     "language": "python",
     "metadata": {},
     "outputs": [],
     "prompt_number": 11
    },
    {
     "cell_type": "code",
     "collapsed": false,
     "input": [
      "group"
     ],
     "language": "python",
     "metadata": {},
     "outputs": [
      {
       "metadata": {},
       "output_type": "pyout",
       "prompt_number": 12,
       "text": [
        "['01010011',\n",
        " '01110101',\n",
        " '01100110',\n",
        " '01100110',\n",
        " '01101111',\n",
        " '01101100',\n",
        " '01101011',\n",
        " '00101101',\n",
        " '01000011',\n",
        " '01101111',\n",
        " '01110101',\n",
        " '01101110',\n",
        " '01110100',\n",
        " '01111001',\n",
        " '00101101',\n",
        " '01000011',\n",
        " '01101111',\n",
        " '01101101',\n",
        " '01110101',\n",
        " '01101110',\n",
        " '01101001',\n",
        " '01110100',\n",
        " '01111001',\n",
        " '00101101',\n",
        " '01000011',\n",
        " '01101111',\n",
        " '01101100',\n",
        " '01101100',\n",
        " '01100101',\n",
        " '01100111',\n",
        " '01100101',\n",
        " '00101101',\n",
        " '01001101',\n",
        " '01000001',\n",
        " '01010100',\n",
        " '00110001',\n",
        " '00110000',\n",
        " '00110111']"
       ]
      }
     ],
     "prompt_number": 12
    },
    {
     "cell_type": "code",
     "collapsed": false,
     "input": [
      "# Generates a reverse mapping of the dictionary\n",
      "# Use to output leter given an 8-bit binary ascii code\n",
      "inv_map = {v: k for k, v in d.items()}"
     ],
     "language": "python",
     "metadata": {},
     "outputs": [],
     "prompt_number": 13
    },
    {
     "cell_type": "code",
     "collapsed": false,
     "input": [
      "# make a function that takes an 8-bit binary argument and passes it to the inverse dictonary\n",
      "def leter(binary):\n",
      "    return inv_map[binary]"
     ],
     "language": "python",
     "metadata": {},
     "outputs": [],
     "prompt_number": 14
    },
    {
     "cell_type": "code",
     "collapsed": false,
     "input": [
      "leter(group)"
     ],
     "language": "python",
     "metadata": {},
     "outputs": [
      {
       "ename": "TypeError",
       "evalue": "unhashable type: 'list'",
       "output_type": "pyerr",
       "traceback": [
        "\u001b[0;31m---------------------------------------------------------------------------\u001b[0m\n\u001b[0;31mTypeError\u001b[0m                                 Traceback (most recent call last)",
        "\u001b[0;32m<ipython-input-16-f288921cd985>\u001b[0m in \u001b[0;36m<module>\u001b[0;34m()\u001b[0m\n\u001b[0;32m----> 1\u001b[0;31m \u001b[0mleter\u001b[0m\u001b[0;34m(\u001b[0m\u001b[0mgroup\u001b[0m\u001b[0;34m)\u001b[0m\u001b[0;34m\u001b[0m\u001b[0m\n\u001b[0m",
        "\u001b[0;32m<ipython-input-14-f136fa95f855>\u001b[0m in \u001b[0;36mleter\u001b[0;34m(binary)\u001b[0m\n\u001b[1;32m      1\u001b[0m \u001b[0;31m# make a function that takes an 8-bit binary argument and passes it to inverse dictonary\u001b[0m\u001b[0;34m\u001b[0m\u001b[0;34m\u001b[0m\u001b[0m\n\u001b[1;32m      2\u001b[0m \u001b[0;32mdef\u001b[0m \u001b[0mleter\u001b[0m\u001b[0;34m(\u001b[0m\u001b[0mbinary\u001b[0m\u001b[0;34m)\u001b[0m\u001b[0;34m:\u001b[0m\u001b[0;34m\u001b[0m\u001b[0m\n\u001b[0;32m----> 3\u001b[0;31m     \u001b[0;32mreturn\u001b[0m \u001b[0minv_map\u001b[0m\u001b[0;34m[\u001b[0m\u001b[0mbinary\u001b[0m\u001b[0;34m]\u001b[0m\u001b[0;34m\u001b[0m\u001b[0m\n\u001b[0m",
        "\u001b[0;31mTypeError\u001b[0m: unhashable type: 'list'"
       ]
      }
     ],
     "prompt_number": 16
    },
    {
     "cell_type": "code",
     "collapsed": false,
     "input": [
      "# calls the function leter for each element in sgroup\n",
      "string=map(leter, group)\n",
      "string"
     ],
     "language": "python",
     "metadata": {},
     "outputs": [
      {
       "metadata": {},
       "output_type": "pyout",
       "prompt_number": 15,
       "text": [
        "['S',\n",
        " 'u',\n",
        " 'f',\n",
        " 'f',\n",
        " 'o',\n",
        " 'l',\n",
        " 'k',\n",
        " '-',\n",
        " 'C',\n",
        " 'o',\n",
        " 'u',\n",
        " 'n',\n",
        " 't',\n",
        " 'y',\n",
        " '-',\n",
        " 'C',\n",
        " 'o',\n",
        " 'm',\n",
        " 'u',\n",
        " 'n',\n",
        " 'i',\n",
        " 't',\n",
        " 'y',\n",
        " '-',\n",
        " 'C',\n",
        " 'o',\n",
        " 'l',\n",
        " 'l',\n",
        " 'e',\n",
        " 'g',\n",
        " 'e',\n",
        " '-',\n",
        " 'M',\n",
        " 'A',\n",
        " 'T',\n",
        " '1',\n",
        " '0',\n",
        " '7']"
       ]
      }
     ],
     "prompt_number": 15
    },
    {
     "cell_type": "code",
     "collapsed": false,
     "input": [
      "string2=''.join(string)\n",
      "string2"
     ],
     "language": "python",
     "metadata": {},
     "outputs": [
      {
       "metadata": {},
       "output_type": "pyout",
       "prompt_number": 18,
       "text": [
        "'Suffolk-County-Comunity-College-MAT107'"
       ]
      }
     ],
     "prompt_number": 18
    },
    {
     "cell_type": "code",
     "collapsed": false,
     "input": [
      "# Alternate approach to iteratively use the dictionary to encode each letter in the string.\n",
      "s=''\n",
      "for i in name:\n",
      "    s+= d[i]"
     ],
     "language": "python",
     "metadata": {},
     "outputs": [],
     "prompt_number": 21
    },
    {
     "cell_type": "code",
     "collapsed": false,
     "input": [
      "s"
     ],
     "language": "python",
     "metadata": {},
     "outputs": [
      {
       "metadata": {},
       "output_type": "pyout",
       "prompt_number": 22,
       "text": [
        "'0101001101110101011001100110011001101111011011000110101100101101010000110110111101110101011011100111010001111001001011010100001101101111011011010111010101101110011010010111010001111001001011010100001101101111011011000110110001100101011001110110010100101101010011010100000101010100001100010011000000110111'"
       ]
      }
     ],
     "prompt_number": 22
    },
    {
     "cell_type": "heading",
     "level": 1,
     "metadata": {},
     "source": [
      "Decode a message"
     ]
    },
    {
     "cell_type": "code",
     "collapsed": false,
     "input": [
      "# Decode a message\n",
      "m=open('/Users/michaelparente/Documents/Teaching/teaching/MAT 107/ascii binary message.txt','r')\n",
      "sm=''\n",
      "for i in m:\n",
      "    sm+=i"
     ],
     "language": "python",
     "metadata": {},
     "outputs": [],
     "prompt_number": 1
    },
    {
     "cell_type": "code",
     "collapsed": false,
     "input": [
      "sm"
     ],
     "language": "python",
     "metadata": {},
     "outputs": [
      {
       "metadata": {},
       "output_type": "pyout",
       "prompt_number": 49,
       "text": [
        "'01001111 01110101 01110010 00101101 01001101 01101001 01110011 01110011 01101001 01101111 01101110 00111010 01010011 01110101 01100110 01100110 01101111 01101100 01101011 00101101 01000011 01101111 01110101 01101110 01110100 01111001 00101101 01000011 01101111 01101101 01101101 01110101 01101110 01101001 01110100 01111001 00101101 01000011 01101111 01101100 01101100 01100101 01100111 01100101 00101101 01110000 01110010 01101111 01101101 01101111 01110100 01100101 01110011 00101101 01101001 01101110 01110100 01100101 01101100 01101100 01100101 01100011 01110100 01110101 01100001 01101100 00101101 01100100 01101001 01110011 01100011 01101111 01110110 01100101 01110010 01111001 00101100 00101101 01110000 01101000 01111001 01110011 01101001 01100011 01100001 01101100 00101101 01100100 01100101 01110110 01100101 01101100 01101111 01110000 01101101 01100101 01101110 01110100 00101100 00101101 01110011 01101111 01100011 01101001 01100001 01101100 00101101 01100001 01101110 01100100 00101101 01100101 01110100 01101000 01101001 01100011 01100001 01101100 00101101 01100001 01110111 01100001 01110010 01100101 01101110 01100101 01110011 01110011 00101100 00101101 01100001 01101110 01100100 00101101 01100101 01100011 01101111 01101110 01101111 01101101 01101001 01100011 00101101 01101111 01110000 01110000 01101111 01110010 01110100 01110101 01101110 01101001 01110100 01101001 01100101 01110011 00101101 01100110 01101111 01110010 00101101 01100001 01101100 01101100 00101101 01110100 01101000 01110010 01101111 01110101 01100111 01101000 00101101 01100001 01101110 00101101 01100101 01100100 01110101 01100011 01100001 01110100 01101001 01101111 01101110 00101101 01110100 01101000 01100001 01110100 00101101 01110100 01110010 01100001 01101110 01110011 01100110 01101111 01110010 01101101 01110011 00101101 01101100 01101001 01110110 01100101 01110011 00101100 00101101 01100010 01110101 01101001 01101100 01100100 01110011 00101101 01100011 01101111 01101101 01101101 01110101 01101110 01101001 01110100 01101001 01100101 01110011 00101100 00101101 01100001 01101110 01100100 00101101 01101001 01101101 01110000 01110010 01101111 01110110 01100101 01110011 00101101 01110011 01101111 01100011 01101001 01100101 01110100 01111001 00101110 '"
       ]
      }
     ],
     "prompt_number": 49
    },
    {
     "cell_type": "code",
     "collapsed": false,
     "input": [
      "# Alternate: use .readlines() function\n",
      "m=open('/Users/michaelparente/Documents/Teaching/teaching/MAT 107/ascii binary message.txt','r')\n",
      "message=m.readlines()"
     ],
     "language": "python",
     "metadata": {},
     "outputs": [],
     "prompt_number": 2
    },
    {
     "cell_type": "code",
     "collapsed": false,
     "input": [
      "message"
     ],
     "language": "python",
     "metadata": {},
     "outputs": [
      {
       "metadata": {},
       "output_type": "pyout",
       "prompt_number": 3,
       "text": [
        "['01001111 01110101 01110010 00101101 01001101 01101001 01110011 01110011 01101001 01101111 01101110 00111010 01010011 01110101 01100110 01100110 01101111 01101100 01101011 00101101 01000011 01101111 01110101 01101110 01110100 01111001 00101101 01000011 01101111 01101101 01101101 01110101 01101110 01101001 01110100 01111001 00101101 01000011 01101111 01101100 01101100 01100101 01100111 01100101 00101101 01110000 01110010 01101111 01101101 01101111 01110100 01100101 01110011 00101101 01101001 01101110 01110100 01100101 01101100 01101100 01100101 01100011 01110100 01110101 01100001 01101100 00101101 01100100 01101001 01110011 01100011 01101111 01110110 01100101 01110010 01111001 00101100 00101101 01110000 01101000 01111001 01110011 01101001 01100011 01100001 01101100 00101101 01100100 01100101 01110110 01100101 01101100 01101111 01110000 01101101 01100101 01101110 01110100 00101100 00101101 01110011 01101111 01100011 01101001 01100001 01101100 00101101 01100001 01101110 01100100 00101101 01100101 01110100 01101000 01101001 01100011 01100001 01101100 00101101 01100001 01110111 01100001 01110010 01100101 01101110 01100101 01110011 01110011 00101100 00101101 01100001 01101110 01100100 00101101 01100101 01100011 01101111 01101110 01101111 01101101 01101001 01100011 00101101 01101111 01110000 01110000 01101111 01110010 01110100 01110101 01101110 01101001 01110100 01101001 01100101 01110011 00101101 01100110 01101111 01110010 00101101 01100001 01101100 01101100 00101101 01110100 01101000 01110010 01101111 01110101 01100111 01101000 00101101 01100001 01101110 00101101 01100101 01100100 01110101 01100011 01100001 01110100 01101001 01101111 01101110 00101101 01110100 01101000 01100001 01110100 00101101 01110100 01110010 01100001 01101110 01110011 01100110 01101111 01110010 01101101 01110011 00101101 01101100 01101001 01110110 01100101 01110011 00101100 00101101 01100010 01110101 01101001 01101100 01100100 01110011 00101101 01100011 01101111 01101101 01101101 01110101 01101110 01101001 01110100 01101001 01100101 01110011 00101100 00101101 01100001 01101110 01100100 00101101 01101001 01101101 01110000 01110010 01101111 01110110 01100101 01110011 00101101 01110011 01101111 01100011 01101001 01100101 01110100 01111001 00101110 ']"
       ]
      }
     ],
     "prompt_number": 3
    },
    {
     "cell_type": "code",
     "collapsed": false,
     "input": [
      "# Need to deal with the extra space characters\n",
      "# this is a test using the 3 arguments the range function takes: range(start,stop,step)\n",
      "for i in range(0,100,9):\n",
      "    print i"
     ],
     "language": "python",
     "metadata": {},
     "outputs": [
      {
       "output_type": "stream",
       "stream": "stdout",
       "text": [
        "0\n",
        "9\n",
        "18\n",
        "27\n",
        "36\n",
        "45\n",
        "54\n",
        "63\n",
        "72\n",
        "81\n",
        "90\n",
        "99\n"
       ]
      }
     ],
     "prompt_number": 46
    },
    {
     "cell_type": "code",
     "collapsed": false,
     "input": [
      "# Set step size to n+1 (9) to account for the added space\n",
      "n = 8\n",
      "sgroup=[sm[i:i+n] for i in range(0, len(sm), n+1)]"
     ],
     "language": "python",
     "metadata": {},
     "outputs": [],
     "prompt_number": 50
    },
    {
     "cell_type": "code",
     "collapsed": false,
     "input": [
      "sgroup"
     ],
     "language": "python",
     "metadata": {},
     "outputs": [
      {
       "metadata": {},
       "output_type": "pyout",
       "prompt_number": 51,
       "text": [
        "['01001111',\n",
        " '01110101',\n",
        " '01110010',\n",
        " '00101101',\n",
        " '01001101',\n",
        " '01101001',\n",
        " '01110011',\n",
        " '01110011',\n",
        " '01101001',\n",
        " '01101111',\n",
        " '01101110',\n",
        " '00111010',\n",
        " '01010011',\n",
        " '01110101',\n",
        " '01100110',\n",
        " '01100110',\n",
        " '01101111',\n",
        " '01101100',\n",
        " '01101011',\n",
        " '00101101',\n",
        " '01000011',\n",
        " '01101111',\n",
        " '01110101',\n",
        " '01101110',\n",
        " '01110100',\n",
        " '01111001',\n",
        " '00101101',\n",
        " '01000011',\n",
        " '01101111',\n",
        " '01101101',\n",
        " '01101101',\n",
        " '01110101',\n",
        " '01101110',\n",
        " '01101001',\n",
        " '01110100',\n",
        " '01111001',\n",
        " '00101101',\n",
        " '01000011',\n",
        " '01101111',\n",
        " '01101100',\n",
        " '01101100',\n",
        " '01100101',\n",
        " '01100111',\n",
        " '01100101',\n",
        " '00101101',\n",
        " '01110000',\n",
        " '01110010',\n",
        " '01101111',\n",
        " '01101101',\n",
        " '01101111',\n",
        " '01110100',\n",
        " '01100101',\n",
        " '01110011',\n",
        " '00101101',\n",
        " '01101001',\n",
        " '01101110',\n",
        " '01110100',\n",
        " '01100101',\n",
        " '01101100',\n",
        " '01101100',\n",
        " '01100101',\n",
        " '01100011',\n",
        " '01110100',\n",
        " '01110101',\n",
        " '01100001',\n",
        " '01101100',\n",
        " '00101101',\n",
        " '01100100',\n",
        " '01101001',\n",
        " '01110011',\n",
        " '01100011',\n",
        " '01101111',\n",
        " '01110110',\n",
        " '01100101',\n",
        " '01110010',\n",
        " '01111001',\n",
        " '00101100',\n",
        " '00101101',\n",
        " '01110000',\n",
        " '01101000',\n",
        " '01111001',\n",
        " '01110011',\n",
        " '01101001',\n",
        " '01100011',\n",
        " '01100001',\n",
        " '01101100',\n",
        " '00101101',\n",
        " '01100100',\n",
        " '01100101',\n",
        " '01110110',\n",
        " '01100101',\n",
        " '01101100',\n",
        " '01101111',\n",
        " '01110000',\n",
        " '01101101',\n",
        " '01100101',\n",
        " '01101110',\n",
        " '01110100',\n",
        " '00101100',\n",
        " '00101101',\n",
        " '01110011',\n",
        " '01101111',\n",
        " '01100011',\n",
        " '01101001',\n",
        " '01100001',\n",
        " '01101100',\n",
        " '00101101',\n",
        " '01100001',\n",
        " '01101110',\n",
        " '01100100',\n",
        " '00101101',\n",
        " '01100101',\n",
        " '01110100',\n",
        " '01101000',\n",
        " '01101001',\n",
        " '01100011',\n",
        " '01100001',\n",
        " '01101100',\n",
        " '00101101',\n",
        " '01100001',\n",
        " '01110111',\n",
        " '01100001',\n",
        " '01110010',\n",
        " '01100101',\n",
        " '01101110',\n",
        " '01100101',\n",
        " '01110011',\n",
        " '01110011',\n",
        " '00101100',\n",
        " '00101101',\n",
        " '01100001',\n",
        " '01101110',\n",
        " '01100100',\n",
        " '00101101',\n",
        " '01100101',\n",
        " '01100011',\n",
        " '01101111',\n",
        " '01101110',\n",
        " '01101111',\n",
        " '01101101',\n",
        " '01101001',\n",
        " '01100011',\n",
        " '00101101',\n",
        " '01101111',\n",
        " '01110000',\n",
        " '01110000',\n",
        " '01101111',\n",
        " '01110010',\n",
        " '01110100',\n",
        " '01110101',\n",
        " '01101110',\n",
        " '01101001',\n",
        " '01110100',\n",
        " '01101001',\n",
        " '01100101',\n",
        " '01110011',\n",
        " '00101101',\n",
        " '01100110',\n",
        " '01101111',\n",
        " '01110010',\n",
        " '00101101',\n",
        " '01100001',\n",
        " '01101100',\n",
        " '01101100',\n",
        " '00101101',\n",
        " '01110100',\n",
        " '01101000',\n",
        " '01110010',\n",
        " '01101111',\n",
        " '01110101',\n",
        " '01100111',\n",
        " '01101000',\n",
        " '00101101',\n",
        " '01100001',\n",
        " '01101110',\n",
        " '00101101',\n",
        " '01100101',\n",
        " '01100100',\n",
        " '01110101',\n",
        " '01100011',\n",
        " '01100001',\n",
        " '01110100',\n",
        " '01101001',\n",
        " '01101111',\n",
        " '01101110',\n",
        " '00101101',\n",
        " '01110100',\n",
        " '01101000',\n",
        " '01100001',\n",
        " '01110100',\n",
        " '00101101',\n",
        " '01110100',\n",
        " '01110010',\n",
        " '01100001',\n",
        " '01101110',\n",
        " '01110011',\n",
        " '01100110',\n",
        " '01101111',\n",
        " '01110010',\n",
        " '01101101',\n",
        " '01110011',\n",
        " '00101101',\n",
        " '01101100',\n",
        " '01101001',\n",
        " '01110110',\n",
        " '01100101',\n",
        " '01110011',\n",
        " '00101100',\n",
        " '00101101',\n",
        " '01100010',\n",
        " '01110101',\n",
        " '01101001',\n",
        " '01101100',\n",
        " '01100100',\n",
        " '01110011',\n",
        " '00101101',\n",
        " '01100011',\n",
        " '01101111',\n",
        " '01101101',\n",
        " '01101101',\n",
        " '01110101',\n",
        " '01101110',\n",
        " '01101001',\n",
        " '01110100',\n",
        " '01101001',\n",
        " '01100101',\n",
        " '01110011',\n",
        " '00101100',\n",
        " '00101101',\n",
        " '01100001',\n",
        " '01101110',\n",
        " '01100100',\n",
        " '00101101',\n",
        " '01101001',\n",
        " '01101101',\n",
        " '01110000',\n",
        " '01110010',\n",
        " '01101111',\n",
        " '01110110',\n",
        " '01100101',\n",
        " '01110011',\n",
        " '00101101',\n",
        " '01110011',\n",
        " '01101111',\n",
        " '01100011',\n",
        " '01101001',\n",
        " '01100101',\n",
        " '01110100',\n",
        " '01111001',\n",
        " '00101110']"
       ]
      }
     ],
     "prompt_number": 51
    },
    {
     "cell_type": "code",
     "collapsed": false,
     "input": [
      "inv_map = {v: k for k, v in d.items()}\n",
      "def leter(binary):\n",
      "    return inv_map[binary]\n",
      "string=map(leter, sgroup)\n",
      "string"
     ],
     "language": "python",
     "metadata": {},
     "outputs": [
      {
       "metadata": {},
       "output_type": "pyout",
       "prompt_number": 55,
       "text": [
        "['O',\n",
        " 'u',\n",
        " 'r',\n",
        " '-',\n",
        " 'M',\n",
        " 'i',\n",
        " 's',\n",
        " 's',\n",
        " 'i',\n",
        " 'o',\n",
        " 'n',\n",
        " ':',\n",
        " 'S',\n",
        " 'u',\n",
        " 'f',\n",
        " 'f',\n",
        " 'o',\n",
        " 'l',\n",
        " 'k',\n",
        " '-',\n",
        " 'C',\n",
        " 'o',\n",
        " 'u',\n",
        " 'n',\n",
        " 't',\n",
        " 'y',\n",
        " '-',\n",
        " 'C',\n",
        " 'o',\n",
        " 'm',\n",
        " 'm',\n",
        " 'u',\n",
        " 'n',\n",
        " 'i',\n",
        " 't',\n",
        " 'y',\n",
        " '-',\n",
        " 'C',\n",
        " 'o',\n",
        " 'l',\n",
        " 'l',\n",
        " 'e',\n",
        " 'g',\n",
        " 'e',\n",
        " '-',\n",
        " 'p',\n",
        " 'r',\n",
        " 'o',\n",
        " 'm',\n",
        " 'o',\n",
        " 't',\n",
        " 'e',\n",
        " 's',\n",
        " '-',\n",
        " 'i',\n",
        " 'n',\n",
        " 't',\n",
        " 'e',\n",
        " 'l',\n",
        " 'l',\n",
        " 'e',\n",
        " 'c',\n",
        " 't',\n",
        " 'u',\n",
        " 'a',\n",
        " 'l',\n",
        " '-',\n",
        " 'd',\n",
        " 'i',\n",
        " 's',\n",
        " 'c',\n",
        " 'o',\n",
        " 'v',\n",
        " 'e',\n",
        " 'r',\n",
        " 'y',\n",
        " ',',\n",
        " '-',\n",
        " 'p',\n",
        " 'h',\n",
        " 'y',\n",
        " 's',\n",
        " 'i',\n",
        " 'c',\n",
        " 'a',\n",
        " 'l',\n",
        " '-',\n",
        " 'd',\n",
        " 'e',\n",
        " 'v',\n",
        " 'e',\n",
        " 'l',\n",
        " 'o',\n",
        " 'p',\n",
        " 'm',\n",
        " 'e',\n",
        " 'n',\n",
        " 't',\n",
        " ',',\n",
        " '-',\n",
        " 's',\n",
        " 'o',\n",
        " 'c',\n",
        " 'i',\n",
        " 'a',\n",
        " 'l',\n",
        " '-',\n",
        " 'a',\n",
        " 'n',\n",
        " 'd',\n",
        " '-',\n",
        " 'e',\n",
        " 't',\n",
        " 'h',\n",
        " 'i',\n",
        " 'c',\n",
        " 'a',\n",
        " 'l',\n",
        " '-',\n",
        " 'a',\n",
        " 'w',\n",
        " 'a',\n",
        " 'r',\n",
        " 'e',\n",
        " 'n',\n",
        " 'e',\n",
        " 's',\n",
        " 's',\n",
        " ',',\n",
        " '-',\n",
        " 'a',\n",
        " 'n',\n",
        " 'd',\n",
        " '-',\n",
        " 'e',\n",
        " 'c',\n",
        " 'o',\n",
        " 'n',\n",
        " 'o',\n",
        " 'm',\n",
        " 'i',\n",
        " 'c',\n",
        " '-',\n",
        " 'o',\n",
        " 'p',\n",
        " 'p',\n",
        " 'o',\n",
        " 'r',\n",
        " 't',\n",
        " 'u',\n",
        " 'n',\n",
        " 'i',\n",
        " 't',\n",
        " 'i',\n",
        " 'e',\n",
        " 's',\n",
        " '-',\n",
        " 'f',\n",
        " 'o',\n",
        " 'r',\n",
        " '-',\n",
        " 'a',\n",
        " 'l',\n",
        " 'l',\n",
        " '-',\n",
        " 't',\n",
        " 'h',\n",
        " 'r',\n",
        " 'o',\n",
        " 'u',\n",
        " 'g',\n",
        " 'h',\n",
        " '-',\n",
        " 'a',\n",
        " 'n',\n",
        " '-',\n",
        " 'e',\n",
        " 'd',\n",
        " 'u',\n",
        " 'c',\n",
        " 'a',\n",
        " 't',\n",
        " 'i',\n",
        " 'o',\n",
        " 'n',\n",
        " '-',\n",
        " 't',\n",
        " 'h',\n",
        " 'a',\n",
        " 't',\n",
        " '-',\n",
        " 't',\n",
        " 'r',\n",
        " 'a',\n",
        " 'n',\n",
        " 's',\n",
        " 'f',\n",
        " 'o',\n",
        " 'r',\n",
        " 'm',\n",
        " 's',\n",
        " '-',\n",
        " 'l',\n",
        " 'i',\n",
        " 'v',\n",
        " 'e',\n",
        " 's',\n",
        " ',',\n",
        " '-',\n",
        " 'b',\n",
        " 'u',\n",
        " 'i',\n",
        " 'l',\n",
        " 'd',\n",
        " 's',\n",
        " '-',\n",
        " 'c',\n",
        " 'o',\n",
        " 'm',\n",
        " 'm',\n",
        " 'u',\n",
        " 'n',\n",
        " 'i',\n",
        " 't',\n",
        " 'i',\n",
        " 'e',\n",
        " 's',\n",
        " ',',\n",
        " '-',\n",
        " 'a',\n",
        " 'n',\n",
        " 'd',\n",
        " '-',\n",
        " 'i',\n",
        " 'm',\n",
        " 'p',\n",
        " 'r',\n",
        " 'o',\n",
        " 'v',\n",
        " 'e',\n",
        " 's',\n",
        " '-',\n",
        " 's',\n",
        " 'o',\n",
        " 'c',\n",
        " 'i',\n",
        " 'e',\n",
        " 't',\n",
        " 'y',\n",
        " '.']"
       ]
      }
     ],
     "prompt_number": 55
    },
    {
     "cell_type": "code",
     "collapsed": false,
     "input": [
      "string2=''.join(string)\n",
      "string2"
     ],
     "language": "python",
     "metadata": {},
     "outputs": [
      {
       "metadata": {},
       "output_type": "pyout",
       "prompt_number": 56,
       "text": [
        "'Our-Mission:Suffolk-County-Community-College-promotes-intellectual-discovery,-physical-development,-social-and-ethical-awareness,-and-economic-opportunities-for-all-through-an-education-that-transforms-lives,-builds-communities,-and-improves-society.'"
       ]
      }
     ],
     "prompt_number": 56
    },
    {
     "cell_type": "code",
     "collapsed": false,
     "input": [],
     "language": "python",
     "metadata": {},
     "outputs": []
    },
    {
     "cell_type": "code",
     "collapsed": false,
     "input": [],
     "language": "python",
     "metadata": {},
     "outputs": []
    },
    {
     "cell_type": "code",
     "collapsed": false,
     "input": [
      "# Built-in function that returns the numerical value of a single character\n",
      "ord('A')"
     ],
     "language": "python",
     "metadata": {},
     "outputs": [
      {
       "metadata": {},
       "output_type": "pyout",
       "prompt_number": 64,
       "text": [
        "65"
       ]
      }
     ],
     "prompt_number": 64
    },
    {
     "cell_type": "code",
     "collapsed": false,
     "input": [],
     "language": "python",
     "metadata": {},
     "outputs": []
    }
   ],
   "metadata": {}
  }
 ]
}