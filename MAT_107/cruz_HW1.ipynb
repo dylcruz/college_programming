{
 "cells": [
  {
   "cell_type": "code",
   "execution_count": 6,
   "metadata": {
    "collapsed": false
   },
   "outputs": [
    {
     "name": "stdout",
     "output_type": "stream",
     "text": [
      "Input a number: 25\n",
      "13.0\n",
      "7.46153846154\n",
      "5.40602696273\n",
      "5.01524760194\n",
      "5.00002317825\n",
      "5.00000000005\n",
      "5.0\n",
      "The square root of 25.0 is 5.0\n"
     ]
    }
   ],
   "source": [
    "import numpy as np\n",
    "\n",
    "x = float(raw_input('Input a number: '))\n",
    "\n",
    "while x < 0:\n",
    "    print \"Please enter a positive number.\"\n",
    "    x = float(raw_input('Input a number: '))\n",
    "\n",
    "y = 1.0\n",
    "z = np.sqrt(x)\n",
    "\n",
    "while z != y:\n",
    "    y = .5*(y + (x/y))\n",
    "    print y\n",
    "    \n",
    "print \"The square root of\", \n",
    "print x, \n",
    "print \"is\", \n",
    "print y"
   ]
  },
  {
   "cell_type": "code",
   "execution_count": null,
   "metadata": {
    "collapsed": false
   },
   "outputs": [],
   "source": []
  },
  {
   "cell_type": "code",
   "execution_count": null,
   "metadata": {
    "collapsed": true
   },
   "outputs": [],
   "source": []
  },
  {
   "cell_type": "code",
   "execution_count": null,
   "metadata": {
    "collapsed": true
   },
   "outputs": [],
   "source": []
  },
  {
   "cell_type": "code",
   "execution_count": null,
   "metadata": {
    "collapsed": true
   },
   "outputs": [],
   "source": []
  },
  {
   "cell_type": "code",
   "execution_count": null,
   "metadata": {
    "collapsed": true
   },
   "outputs": [],
   "source": []
  }
 ],
 "metadata": {
  "kernelspec": {
   "display_name": "Python 2",
   "language": "python",
   "name": "python2"
  },
  "language_info": {
   "codemirror_mode": {
    "name": "ipython",
    "version": 2
   },
   "file_extension": ".py",
   "mimetype": "text/x-python",
   "name": "python",
   "nbconvert_exporter": "python",
   "pygments_lexer": "ipython2",
   "version": "2.7.11"
  }
 },
 "nbformat": 4,
 "nbformat_minor": 0
}
