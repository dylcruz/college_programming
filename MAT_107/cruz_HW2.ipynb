{
 "cells": [
  {
   "cell_type": "code",
   "execution_count": 28,
   "metadata": {
    "collapsed": false
   },
   "outputs": [
    {
     "name": "stdout",
     "output_type": "stream",
     "text": [
      "30.0 % of strand is 'A' or 'T'.\n",
      "CTAGGAGGTATATGTTGCCATAGAGGTGGAGTCCAAATCTAGAGTTGTTGCCTTGGTAACGGCTGTACTC\n"
     ]
    }
   ],
   "source": [
    "dna = \"GATCCTCCATATACAACGGTATCTCCACCTCAGGTTTAGATCTCAACAACGGAACCATTGCCGACATGAG\"\n",
    "y = 0.0\n",
    "comp = ''\n",
    "\n",
    "for x in range(0,len(dna)):\n",
    "    if dna[x] == ('A' or 'T'):\n",
    "        y += 1\n",
    "\n",
    "print ((y / len(dna))*100),\n",
    "print \"% of strand is 'A' or 'T'.\"\n",
    "\n",
    "for x in range(0,len(dna)):\n",
    "    if dna[x] == ('A'):\n",
    "        comp += 'T'\n",
    "    elif dna[x] == ('T'):\n",
    "        comp += 'A'\n",
    "    elif dna[x] == ('G'):\n",
    "        comp += 'C'\n",
    "    elif dna[x] == ('C'):\n",
    "        comp += 'G'\n",
    "\n",
    "print comp"
   ]
  },
  {
   "cell_type": "code",
   "execution_count": null,
   "metadata": {
    "collapsed": true
   },
   "outputs": [],
   "source": []
  }
 ],
 "metadata": {
  "kernelspec": {
   "display_name": "Python 2",
   "language": "python",
   "name": "python2"
  },
  "language_info": {
   "codemirror_mode": {
    "name": "ipython",
    "version": 2
   },
   "file_extension": ".py",
   "mimetype": "text/x-python",
   "name": "python",
   "nbconvert_exporter": "python",
   "pygments_lexer": "ipython2",
   "version": "2.7.11"
  }
 },
 "nbformat": 4,
 "nbformat_minor": 0
}
